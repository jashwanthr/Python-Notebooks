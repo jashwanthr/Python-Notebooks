{
 "cells": [
  {
   "cell_type": "code",
   "execution_count": null,
   "metadata": {},
   "outputs": [],
   "source": [
    "from selenium import webdriver\n",
    "import time\n",
    "import wget\n",
    "import getpass\n",
    "\n",
    "username = getpass.getuser()\n",
    "url = \"https://www.flickr.com/photos/95869671@N08/\"\n",
    "\n",
    "path = r\"/Users/{}/Downloads/chromedriver 2\".format(username)\n",
    "driver = webdriver.Chrome(executable_path = path)\n",
    "driver.get(url)"
   ]
  },
  {
   "cell_type": "code",
   "execution_count": null,
   "metadata": {},
   "outputs": [],
   "source": [
    "photos = driver.find_elements_by_class_name(\"photo-list-photo-view\")\n",
    "\n",
    "photoClasses = [x.find_element_by_tag_name('a').get_attribute('href') for x in photos]\n",
    "photoNames = [x.find_element_by_class_name('interaction-bar').get_attribute('title') for x in photos]"
   ]
  },
  {
   "cell_type": "code",
   "execution_count": null,
   "metadata": {},
   "outputs": [],
   "source": [
    "for photo in range(len(photoClasses)):\n",
    "    driver.get(photoClasses[photo]+\"sizes/o/\")\n",
    "    driver.implicitly_wait(10)\n",
    "    url = driver.find_element_by_id(\"all-sizes-header\").find_elements_by_tag_name(\"a\")[1].get_attribute('href')\n",
    "    wget.download(url, r\"/Users/{}/Downloads/Dominic Walliman/{}.png\".format(username, photoNames[photo]))"
   ]
  }
 ],
 "metadata": {
  "kernelspec": {
   "display_name": "Python 3",
   "language": "python",
   "name": "python3"
  },
  "language_info": {
   "codemirror_mode": {
    "name": "ipython",
    "version": 3
   },
   "file_extension": ".py",
   "mimetype": "text/x-python",
   "name": "python",
   "nbconvert_exporter": "python",
   "pygments_lexer": "ipython3",
   "version": "3.7.4"
  }
 },
 "nbformat": 4,
 "nbformat_minor": 2
}
