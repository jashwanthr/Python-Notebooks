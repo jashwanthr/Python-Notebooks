{
 "cells": [
  {
   "cell_type": "code",
   "execution_count": 5,
   "metadata": {},
   "outputs": [],
   "source": [
    "from selenium import webdriver\n",
    "from selenium.webdriver.common.action_chains import ActionChains\n",
    "import time\n",
    "import getpass\n",
    "\n",
    "username = getpass.getuser()\n",
    "url = \"https://slooh.com/landingPage\"\n",
    "\n",
    "path = r\"C:\\Users\\{}\\Downloads\\Programs\\chromedriver_win32\\chromedriver.exe\".format(username)\n",
    "driver = webdriver.Chrome(executable_path = path)\n",
    "driver.get(url)"
   ]
  },
  {
   "cell_type": "code",
   "execution_count": 6,
   "metadata": {},
   "outputs": [],
   "source": [
    "numOfPages = 60\n",
    "for _ in range(numOfPages):\n",
    "    ActionChains(driver).move_to_element(driver.find_elements_by_class_name('divider-line')[2]).perform()\n",
    "    photoHub = driver.find_element_by_class_name('photo-hub-list')\n",
    "    photos = photoHub.find_elements_by_class_name('overlay-div-tab')\n",
    "    for photo in photos:\n",
    "        try:\n",
    "            photo.find_element_by_class_name('photo-hub-details').find_element_by_class_name('white').click()\n",
    "            time.sleep(3)\n",
    "        except:\n",
    "            pass\n",
    "    pages = driver.find_element_by_class_name('jsx-2451776051').find_elements_by_class_name('page-select')\n",
    "    currPage = [i for i in range(len(pages)) if 'active' in pages[i].find_element_by_tag_name('h4').get_attribute('class')][0]\n",
    "    if(currPage == len(pages)-1):\n",
    "        driver.find_elements_by_class_name('buttons')[1].find_element_by_tag_name('img').click()\n",
    "        currPage = -1\n",
    "    pages[currPage+1].find_element_by_tag_name('h4').click()\n",
    "    time.sleep(10)"
   ]
  },
  {
   "cell_type": "code",
   "execution_count": 3,
   "metadata": {},
   "outputs": [],
   "source": [
    "import os\n",
    "import shutil\n",
    "import getpass\n",
    "\n",
    "username = getpass.getuser()\n",
    "dest = r\"C:\\Users\\{}\\Downloads\\Slooh\".format(username)\n",
    "directory = os.fsencode(dest)\n",
    "\n",
    "for file in os.listdir(directory):\n",
    "    filename = os.fsdecode(file)\n",
    "    if(os.path.isdir(os.path.join(dest, filename))):\n",
    "        pass\n",
    "    elif('teide5' in filename):\n",
    "        shutil.move(os.path.join(dest, filename), os.path.join(dest,'SUN',filename))\n",
    "    elif('moon') in filename:\n",
    "        if(not os.path.exists(os.path.join(dest,'MOON'))):\n",
    "            os.mkdir(os.path.join(dest,'MOON'))\n",
    "        shutil.move(os.path.join(dest, filename), os.path.join(dest,'MOON',filename))\n",
    "    else:\n",
    "        if(not os.path.exists(os.path.join(dest,filename.split('_')[0]))):\n",
    "            os.mkdir(os.path.join(dest,filename.split('_')[0]))\n",
    "        shutil.move(os.path.join(dest, filename), os.path.join(dest,filename.split('_')[0],filename))\n",
    "        "
   ]
  }
 ],
 "metadata": {
  "kernelspec": {
   "display_name": "Python 3",
   "language": "python",
   "name": "python3"
  },
  "language_info": {
   "codemirror_mode": {
    "name": "ipython",
    "version": 3
   },
   "file_extension": ".py",
   "mimetype": "text/x-python",
   "name": "python",
   "nbconvert_exporter": "python",
   "pygments_lexer": "ipython3",
   "version": "3.7.4"
  }
 },
 "nbformat": 4,
 "nbformat_minor": 2
}
