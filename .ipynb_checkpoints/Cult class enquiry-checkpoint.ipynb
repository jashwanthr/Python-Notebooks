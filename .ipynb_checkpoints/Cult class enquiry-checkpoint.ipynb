{
 "cells": [
  {
   "cell_type": "code",
   "execution_count": 107,
   "metadata": {},
   "outputs": [],
   "source": [
    "from selenium import webdriver\n",
    "import time\n",
    "import getpass\n",
    "\n",
    "username = getpass.getuser()\n",
    "url = \"https://www.cure.fit/cult/classbooking/20?centerId=20\"\n",
    "\n",
    "path = r\"/Users/{}/Downloads/chromedriver\".format(username)\n",
    "driver = webdriver.Chrome(executable_path = path)\n",
    "\n",
    "\n",
    "def login():\n",
    "    driver.get(url)\n",
    "    driver.implicitly_wait(10)\n",
    "    driver.find_element_by_class_name(\"login-text\").click()\n",
    "    time.sleep(5)\n",
    "    driver.find_element_by_class_name(\"css-1wky5sg\").click()\n",
    "    driver.implicitly_wait(2)\n",
    "    driver.find_elements_by_xpath(\"//form/input\")[0].send_keys()  #Enter email here\n",
    "    driver.find_elements_by_xpath(\"//form/input\")[1].send_keys()  #Enter password here\n",
    "    driver.find_elements_by_xpath(\"//form/div/input\")[0].click()\n",
    "    \n",
    "def getClassReq(classes):\n",
    "    data = [x.text for x in classes]\n",
    "    ind = data.index([x for x in data if '07:00 PM' in x][0])\n",
    "    elems = classes[ind].find_elements_by_class_name(\"available-theme\")\n",
    "    temp = None\n",
    "    for i in elems:\n",
    "        if('YOGA' in i.text):\n",
    "            temp = i\n",
    "            break\n",
    "        elif('HRX' in i.text):\n",
    "            temp = i\n",
    "            break\n",
    "        elif('S & C' in i.text):\n",
    "            temp = i\n",
    "            break\n",
    "    retVal = 'Could not find any class'\n",
    "    if(temp != None):\n",
    "        retVal = temp.text\n",
    "        driver.execute_script(\"arguments[0].click()\",temp)\n",
    "        time.sleep(2)\n",
    "        driver.find_elements_by_class_name('action-button')[-1].click()\n",
    "        time.sleep(2)\n",
    "        driver.refresh()\n",
    "        time.sleep(5)\n",
    "    return retVal\n",
    "\n",
    "login()"
   ]
  },
  {
   "cell_type": "code",
   "execution_count": 108,
   "metadata": {},
   "outputs": [
    {
     "name": "stdout",
     "output_type": "stream",
     "text": [
      "['M\\n14-S & C', 'W\\n16-YOGA BY MIND.FIT', 'S\\n13-YOGA BY MIND.FIT', 'T\\n15-HRX WORKOUT']\n"
     ]
    }
   ],
   "source": [
    "current_bookings = []\n",
    "classes = []\n",
    "from random import shuffle\n",
    "\n",
    "while(1):\n",
    "    time.sleep(5)\n",
    "    driver.refresh()\n",
    "    time.sleep(5)\n",
    "    dates = driver.find_elements_by_class_name(\"booking-cell\")\n",
    "    shuffle(dates)\n",
    "    for date in dates:\n",
    "        date.click()\n",
    "        booked = driver.find_elements_by_class_name(\"booked-theme\")\n",
    "        if(len(booked)>0):\n",
    "            current_bookings.append(date.text+\"-\"+booked[0].text)\n",
    "        else:\n",
    "            classes = driver.find_elements_by_class_name(\"booking-time-row-cell\")\n",
    "            booked = getClassReq(classes)\n",
    "            print(booked)\n",
    "            break\n",
    "        driver.implicitly_wait(10)\n",
    "    break\n",
    "print(current_bookings) \n",
    "    #time.sleep(60*60)"
   ]
  }
 ],
 "metadata": {
  "kernelspec": {
   "display_name": "Python 3",
   "language": "python",
   "name": "python3"
  },
  "language_info": {
   "codemirror_mode": {
    "name": "ipython",
    "version": 3
   },
   "file_extension": ".py",
   "mimetype": "text/x-python",
   "name": "python",
   "nbconvert_exporter": "python",
   "pygments_lexer": "ipython3",
   "version": "3.7.4"
  }
 },
 "nbformat": 4,
 "nbformat_minor": 2
}
